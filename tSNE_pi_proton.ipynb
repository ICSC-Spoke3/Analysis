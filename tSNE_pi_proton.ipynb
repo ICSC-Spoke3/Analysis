{
 "cells": [
  {
   "cell_type": "code",
   "execution_count": 1,
   "id": "e2b0b97d-11b7-4ea9-934d-565a019cc4d5",
   "metadata": {},
   "outputs": [],
   "source": [
    "import pandas as pd\n",
    "import os\n",
    "import numpy as np\n",
    "import seaborn as sns\n",
    "import sys\n",
    "import matplotlib.pyplot as plt\n",
    "import shap\n",
    "import plotly.express as px\n"
   ]
  },
  {
   "cell_type": "code",
   "execution_count": 2,
   "id": "96f7a8cb-efa3-4e27-aa72-a894706bdc90",
   "metadata": {},
   "outputs": [],
   "source": [
    "from sklearn.model_selection import train_test_split\n",
    "from sklearn.linear_model import LogisticRegression\n",
    "from sklearn.metrics import accuracy_score\n",
    "from sklearn.metrics import roc_auc_score, f1_score\n",
    "from sklearn.metrics import RocCurveDisplay, roc_curve, auc, recall_score\n",
    "from sklearn.metrics import precision_score\n",
    "import xgboost as xgb\n",
    "from numpy import loadtxt\n",
    "from xgboost import XGBClassifier\n",
    "from sklearn.model_selection import StratifiedKFold, RepeatedStratifiedKFold\n",
    "from sklearn.preprocessing import StandardScaler\n",
    "from sklearn.pipeline import make_pipeline\n",
    "from sklearn.ensemble import RandomForestClassifier\n",
    "from sklearn import metrics\n",
    "from sklearn.metrics import confusion_matrix  \n",
    "import glob\n",
    "from sklearn.model_selection import GridSearchCV\n",
    "from sklearn.manifold import TSNE"
   ]
  },
  {
   "cell_type": "code",
   "execution_count": 3,
   "id": "5a3b07ce-9d59-4e7a-b7d2-110a082d6781",
   "metadata": {},
   "outputs": [],
   "source": [
    "def string_to_float(string):\n",
    "    return float(string.strip('[]'))\n"
   ]
  },
  {
   "cell_type": "code",
   "execution_count": 4,
   "id": "c2b96e92-100e-49d5-8cd1-077036ba8493",
   "metadata": {},
   "outputs": [],
   "source": [
    "#20 GeV verticali\n",
    "file_list_p = ['/lustrehome/mbossa/Nuses/Analysis/protonMono_20GeV_onAxis_20000_evts/NUSES_wt_CaloHERDprotonMono_20000-0.25_onAxis_20000-evt-0', '/lustrehome/mbossa/Nuses/Analysis/protonMono_20GeV_onAxis_20000_evts/NUSES_wt_CaloHERDprotonMono_20000-0.25_onAxis_20000-evt-1', '/lustrehome/mbossa/Nuses/Analysis/protonMono_20GeV_onAxis_20000_evts/NUSES_wt_CaloHERDprotonMono_20000-0.25_onAxis_20000-evt-3', '/lustrehome/mbossa/Nuses/Analysis/protonMono_20GeV_onAxis_20000_evts/NUSES_wt_CaloHERDprotonMono_20000-0.25_onAxis_20000-evt-4']\n",
    "file_list_pi_plus = ['/lustrehome/mbossa/Nuses/Analysis/pi+Mono_20GeV_onAxis_20000_evts/NUSES_wt_CaloHERDpi+Mono_20000-0.25_onAxis_20000-evt-0 ', '/lustrehome/mbossa/Nuses/Analysis/pi+Mono_20GeV_onAxis_20000_evts/NUSES_wt_CaloHERDpi+Mono_20000-0.25_onAxis_20000-evt-1', '/lustrehome/mbossa/Nuses/Analysis/pi+Mono_20GeV_onAxis_20000_evts/NUSES_wt_CaloHERDpi+Mono_20000-0.25_onAxis_20000-evt-2', '/lustrehome/mbossa/Nuses/Analysis/pi+Mono_20GeV_onAxis_20000_evts/NUSES_wt_CaloHERDpi+Mono_20000-0.25_onAxis_20000-evt-3', '/lustrehome/mbossa/Nuses/Analysis/pi+Mono_20GeV_onAxis_20000_evts/NUSES_wt_CaloHERDpi+Mono_20000-0.25_onAxis_20000-evt-4']"
   ]
  },
  {
   "cell_type": "code",
   "execution_count": 5,
   "id": "a6fe8342-bba9-4ccc-97a6-08ff9f1785e7",
   "metadata": {},
   "outputs": [],
   "source": [
    "df_list_p = [pd.read_csv(file) for file in file_list_p]\n",
    "combined_df_p = pd.concat(df_list_p, ignore_index=True)\n",
    "combined_df_p.to_csv('combined_df_p.csv', index=False)"
   ]
  },
  {
   "cell_type": "code",
   "execution_count": 6,
   "id": "c04b489b-ca5b-42ab-94bb-5f4807475eca",
   "metadata": {},
   "outputs": [],
   "source": [
    "df_list_pi_plus = [pd.read_csv(file) for file in file_list_pi_plus]\n",
    "combined_df_pi_plus = pd.concat(df_list_pi_plus, ignore_index=True)\n",
    "combined_df_pi_plus.to_csv('combined_df_pi_plus.csv', index=False)"
   ]
  },
  {
   "cell_type": "code",
   "execution_count": 7,
   "id": "e672567b-03f1-40d0-841c-8f3b687c8d5c",
   "metadata": {},
   "outputs": [],
   "source": [
    "df_p = pd.read_csv('combined_df_p.csv')\n",
    "df_pi_plus = pd.read_csv('combined_df_pi_plus.csv')"
   ]
  },
  {
   "cell_type": "code",
   "execution_count": 8,
   "id": "e6806164-e8d0-4367-a6d8-3da65a06b65f",
   "metadata": {},
   "outputs": [],
   "source": [
    "df_p['R1'] = df_p['R1'].apply(string_to_float)\n",
    "df_p['R2'] = df_p['R2'].apply(string_to_float)\n",
    "df_p['R4'] = df_p['R4'].apply(string_to_float)\n",
    "df_p['R5'] = df_p['R5'].apply(string_to_float)\n",
    "df_p['R6'] = df_p['R6'].apply(string_to_float)\n",
    "\n",
    "df_pi_plus['R1'] = df_pi_plus['R1'].apply(string_to_float)\n",
    "df_pi_plus['R2'] = df_pi_plus['R2'].apply(string_to_float)\n",
    "df_pi_plus['R4'] = df_pi_plus['R4'].apply(string_to_float)\n",
    "df_pi_plus['R5'] = df_pi_plus['R5'].apply(string_to_float)\n",
    "df_pi_plus['R6'] = df_pi_plus['R6'].apply(string_to_float)"
   ]
  },
  {
   "cell_type": "code",
   "execution_count": 9,
   "id": "0cf2efec-f9a9-480d-a9df-d0616bca92c0",
   "metadata": {},
   "outputs": [],
   "source": [
    "df_p['R3'] = df_p['R3'].apply(lambda x: eval(x) if isinstance(x, str) else np.nan)\n",
    "df_pi_plus['R3'] = df_pi_plus['R3'].apply(lambda x: eval(x) if isinstance(x, str) else np.nan)"
   ]
  },
  {
   "cell_type": "code",
   "execution_count": 10,
   "id": "7e6f2c53-477d-400b-a9cd-a5f955be8596",
   "metadata": {},
   "outputs": [],
   "source": [
    "for i in range(25):\n",
    "        df_p[f'R3_{i+1}'] = df_p['R3'].apply(lambda x: x[i] if isinstance(x, list) and i < len(x) else 0)\n",
    "df2_p = df_p.drop(columns=['R3'])"
   ]
  },
  {
   "cell_type": "code",
   "execution_count": 11,
   "id": "85b40034-ba53-4a9a-b3b4-def0bf97bd55",
   "metadata": {},
   "outputs": [],
   "source": [
    "for i in range(25):\n",
    "        df_pi_plus[f'R3_{i+1}'] = df_pi_plus['R3'].apply(lambda x: x[i] if isinstance(x, list) and i < len(x) else 0)\n",
    "df2_pi_plus = df_pi_plus.drop(columns=['R3'])"
   ]
  },
  {
   "cell_type": "code",
   "execution_count": 18,
   "id": "8dd787b9-b42e-42e2-ae20-773c11b2dd7a",
   "metadata": {},
   "outputs": [],
   "source": [
    "df2_p['y_true'] = 0\n",
    "df2_pi_plus['y_true']= 1"
   ]
  },
  {
   "cell_type": "code",
   "execution_count": 19,
   "id": "173ce0f8-504c-4b5e-aa53-59da7dbdce9f",
   "metadata": {},
   "outputs": [],
   "source": [
    "combined_df = pd.concat([df2_p, df2_pi_plus])\n",
    "shuffled_df = combined_df.sample(frac=1).reset_index(drop=True)\n",
    "y_true = shuffled_df['y_true'].values"
   ]
  },
  {
   "cell_type": "code",
   "execution_count": 20,
   "id": "461eb63b-f5a8-4f24-9a64-c229ac700ddd",
   "metadata": {},
   "outputs": [
    {
     "name": "stdout",
     "output_type": "stream",
     "text": [
      "[0 1]\n",
      "[0 1]\n",
      "[0 1]\n"
     ]
    }
   ],
   "source": [
    "#xgb classifier\n",
    "param_grid_xgb = {\n",
    "    'max_depth': [3],#, 5, 6],6 e' il max\n",
    "    'learning_rate': [0.1],# 0.01, 0.001],\n",
    "    'subsample': [0.5],# 0.7, 1],\n",
    "   # 'reg_alpha':[0],# 0.5, 1, 5],\n",
    "    #'reg_lambda':[0],# 0.5, 1, 5]   \n",
    "}\n",
    "\n",
    "xgb_model = xgb.XGBClassifier(tree_method=\"hist\",seed=0)\n",
    "grid_search = GridSearchCV(xgb_model, param_grid_xgb, cv=5, scoring='accuracy',refit=True)\n",
    "# Fit the GridSearchCV object to the training data\n",
    "X_train, X_test, y_train, y_test = train_test_split(shuffled_df.iloc[:, 1:-1], shuffled_df.iloc[:, -1], test_size=0.3, random_state=0)\n",
    "X_val, X_test1, Y_val, Y_test1 = train_test_split(X_test, y_test, test_size=0.1, random_state=0)\n",
    "\n",
    "print(np.unique(y_train))  # Dovrebbe stampare [0 1]\n",
    "print(np.unique(Y_val))    # Dovrebbe stampare [0 1]\n",
    "print(np.unique(Y_test1))  #\n",
    "grid_search.fit(X_train, y_train)\n",
    "best_model = grid_search.best_estimator_"
   ]
  },
  {
   "cell_type": "code",
   "execution_count": 21,
   "id": "975b5300-9afc-46bb-9aaa-a137d22f2677",
   "metadata": {},
   "outputs": [
    {
     "name": "stdout",
     "output_type": "stream",
     "text": [
      "Accuracy on Test Set: 61.13%\n",
      "Recall on Test Set: 74.98%\n",
      "Precision on Test Set: 62.64%\n",
      "Accuracy on Validation Set: 59.34%\n",
      "Recall on Validation Set: 72.94%\n",
      "Precision on Validation Set: 61.24%\n"
     ]
    }
   ],
   "source": [
    "y_pred_test = best_model.predict(X_test1)\n",
    "accuracy_test = accuracy_score(Y_test1, y_pred_test)\n",
    "recall_test = recall_score(Y_test1, y_pred_test)\n",
    "precision_test = precision_score(Y_test1, y_pred_test)\n",
    "\n",
    "# Stampa dei risultati sui dati di test\n",
    "print(\"Accuracy on Test Set: %.2f%%\" % (accuracy_test * 100.0))\n",
    "print(\"Recall on Test Set: %.2f%%\" % (recall_test * 100.0))\n",
    "print(\"Precision on Test Set: %.2f%%\" % (precision_test * 100.0))\n",
    "\n",
    "# Predire sui dati di validazione\n",
    "y_pred_val = best_model.predict(X_val)\n",
    "accuracy_val = accuracy_score(Y_val, y_pred_val)\n",
    "recall_val = recall_score(Y_val, y_pred_val)\n",
    "precision_val = precision_score(Y_val, y_pred_val)\n",
    "\n",
    "# Stampa dei risultati sui dati di validazione\n",
    "print(\"Accuracy on Validation Set: %.2f%%\" % (accuracy_val * 100.0))\n",
    "print(\"Recall on Validation Set: %.2f%%\" % (recall_val * 100.0))\n",
    "print(\"Precision on Validation Set: %.2f%%\" % (precision_val * 100.0))"
   ]
  },
  {
   "cell_type": "code",
   "execution_count": null,
   "id": "f6b539cc-2d55-4f3f-8f48-4547b67eefd1",
   "metadata": {},
   "outputs": [],
   "source": []
  }
 ],
 "metadata": {
  "kernelspec": {
   "display_name": "Python 3 (ipykernel)",
   "language": "python",
   "name": "python3"
  },
  "language_info": {
   "codemirror_mode": {
    "name": "ipython",
    "version": 3
   },
   "file_extension": ".py",
   "mimetype": "text/x-python",
   "name": "python",
   "nbconvert_exporter": "python",
   "pygments_lexer": "ipython3",
   "version": "3.8.10"
  }
 },
 "nbformat": 4,
 "nbformat_minor": 5
}
